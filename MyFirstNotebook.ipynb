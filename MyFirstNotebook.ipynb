{
 "cells": [
  {
   "cell_type": "markdown",
   "id": "80cbdb6d-2af0-44cb-b20d-fa5a21a5f8d6",
   "metadata": {},
   "source": [
    "# TITLE"
   ]
  },
  {
   "cell_type": "code",
   "execution_count": 2,
   "id": "ea85b094-7666-4430-8ba3-ecb0ca432bd6",
   "metadata": {},
   "outputs": [
    {
     "name": "stdout",
     "output_type": "stream",
     "text": [
      "Hello!\n"
     ]
    }
   ],
   "source": [
    "print(\"Hello!\")"
   ]
  },
  {
   "cell_type": "markdown",
   "id": "f1cd290a-9858-42c7-bdce-57e0909fe56e",
   "metadata": {},
   "source": [
    "ASDIUSJAOWJAOSIkm"
   ]
  },
  {
   "cell_type": "code",
   "execution_count": 3,
   "id": "dc919eaa-ad90-405e-9066-f5dea00377f1",
   "metadata": {
    "editable": true,
    "slideshow": {
     "slide_type": ""
    },
    "tags": []
   },
   "outputs": [],
   "source": [
    "primes=[2];\n",
    "for i in range(3,100000):\n",
    "    isPrime = True\n",
    "    for prime in primes:\n",
    "        if i%prime == 0:\n",
    "            isPrime = False\n",
    "            break\n",
    "    if isPrime:\n",
    "        primes.append(i)\n",
    "#print(primes)"
   ]
  },
  {
   "cell_type": "markdown",
   "id": "c772f0ec-b4ae-4c6e-8755-30932cfde4a8",
   "metadata": {},
   "source": [
    "[sl](#TITLE)\n",
    "\n"
   ]
  }
 ],
 "metadata": {
  "kernelspec": {
   "display_name": "Python 3 (ipykernel)",
   "language": "python",
   "name": "python3"
  },
  "language_info": {
   "codemirror_mode": {
    "name": "ipython",
    "version": 3
   },
   "file_extension": ".py",
   "mimetype": "text/x-python",
   "name": "python",
   "nbconvert_exporter": "python",
   "pygments_lexer": "ipython3",
   "version": "3.12.0"
  }
 },
 "nbformat": 4,
 "nbformat_minor": 5
}
