{
  "metadata": {
    "kernelspec": {
      "name": "python",
      "display_name": "Python (Pyodide)",
      "language": "python"
    },
    "language_info": {
      "codemirror_mode": {
        "name": "python",
        "version": 3
      },
      "file_extension": ".py",
      "mimetype": "text/x-python",
      "name": "python",
      "nbconvert_exporter": "python",
      "pygments_lexer": "ipython3",
      "version": "3.8"
    }
  },
  "nbformat_minor": 4,
  "nbformat": 4,
  "cells": [
    {
      "cell_type": "code",
      "source": "%pip install -q ipywidgets matplotlib",
      "metadata": {
        "trusted": true
      },
      "outputs": [],
      "execution_count": 115
    },
    {
      "cell_type": "code",
      "source": "import matplotlib.pyplot as plt\nimport numpy as np\nimport math\nimport ipywidgets as widgets",
      "metadata": {
        "trusted": true
      },
      "outputs": [],
      "execution_count": 116
    },
    {
      "cell_type": "code",
      "source": "plt.style.use('_mpl-gallery')\nFLOOR_MARGIN = 1\nCEILING_MARGIN = 1\nGRAPH_MARGIN = 1\n# make data\ndef graphFunctions (amp1,wavelength1,offset1,amp2,wavelength2,offset2):\n    x = np.linspace(0, 10, int(200/min(wavelength1,wavelength2)))\n    y1 = FLOOR_MARGIN + amp1 + amp1 * np.sin((2 * math.pi * (x-offset1)/wavelength1))\n    y2 = FLOOR_MARGIN + amp1 * 2 + GRAPH_MARGIN + amp2 + amp2 * np.sin((2 * math.pi * (x-offset2)/wavelength2))\n    y3 = FLOOR_MARGIN + amp1 * 3 + GRAPH_MARGIN * 2 + amp2 * 3 + amp1 * np.sin((2 * math.pi * (x-offset1)/wavelength1)) + amp2 * np.sin((2 * math.pi * (x-offset2)/wavelength2));\n    # plot\n    yMax = FLOOR_MARGIN+amp1*4+amp2*4+GRAPH_MARGIN*2+CEILING_MARGIN\n    fig, ax = plt.subplots(figsize=(5,yMax/8))\n    ax.plot(x, y1, linewidth=2.0)\n    ax.plot(x, y2, linewidth=2.0)\n    ax.plot(x, y3, linewidth=2.0)\n    #xlim and ylim set the bounds; xticks and yticks set where the lines appear\n    ax.set(xlim=(0, 1), xticks=np.arange(1, 8),\n           ylim=(0, yMax), yticks=np.arange(1, yMax))\n\n    plt.show()\n",
      "metadata": {
        "trusted": true
      },
      "outputs": [],
      "execution_count": 117
    },
    {
      "cell_type": "markdown",
      "source": "Edit the variables to generate graphs and see how they look when combined.",
      "metadata": {}
    },
    {
      "cell_type": "code",
      "source": "sliderNames = [\"Amplitude\", \"Wavelength\", \"Offset\"]\nsliders = [];\nfor i in range(2):\n    for sliderName in sliderNames:\n        textBox = None\n        slider = None\n        if sliderName == \"Amplitude\":\n            textBox = widgets.IntText()\n            slider = widgets.IntSlider()\n            slider.min = 0\n            slider.max = 5\n            slider.value = 1\n        elif sliderName == \"Wavelength\":\n            textBox = widgets.FloatText()\n            slider = widgets.FloatLogSlider()\n            slider.min = -2\n            slider.max = 2\n            slider.value = 1\n        elif sliderName == \"Offset\":\n            textBox = widgets.FloatText()\n            slider = widgets.FloatSlider()\n            slider.min = 0\n            slider.max = 1\n            slider.step = 0.1\n            slider.value = 0 if i==0 else 0.2\n        widgets.jslink((slider, 'value'), (textBox, 'value')) #Link together sliders and text boxes so they can be used together\n        textBox.description = sliderName +\" \"+str(i+1)\n        display(textBox,slider)\n        sliders.append(slider)\n# Must use interactive_output in order to ensure it does not automatically display the sliders by itself\nresultPlot = widgets.interactive_output(graphFunctions,{\"amp1\":sliders[0],\"wavelength1\":sliders[1],\"offset1\":sliders[2],\"amp2\":sliders[3],\"wavelength2\":sliders[4],\"offset2\":sliders[5]})\nresultPlot",
      "metadata": {
        "trusted": true
      },
      "outputs": [
        {
          "output_type": "display_data",
          "data": {
            "text/plain": "IntText(value=0, description='Amplitude 1')",
            "application/vnd.jupyter.widget-view+json": {
              "version_major": 2,
              "version_minor": 0,
              "model_id": "a945f109204a47988ae57983785826fa"
            }
          },
          "metadata": {}
        },
        {
          "output_type": "display_data",
          "data": {
            "text/plain": "IntSlider(value=1, max=5)",
            "application/vnd.jupyter.widget-view+json": {
              "version_major": 2,
              "version_minor": 0,
              "model_id": "9392b785642d40be8332f7d940e84ce4"
            }
          },
          "metadata": {}
        },
        {
          "output_type": "display_data",
          "data": {
            "text/plain": "FloatText(value=0.0, description='Wavelength 1')",
            "application/vnd.jupyter.widget-view+json": {
              "version_major": 2,
              "version_minor": 0,
              "model_id": "63e56071ba824455b31bf94853dab54d"
            }
          },
          "metadata": {}
        },
        {
          "output_type": "display_data",
          "data": {
            "text/plain": "FloatLogSlider(value=1.0, max=2.0, min=-2.0)",
            "application/vnd.jupyter.widget-view+json": {
              "version_major": 2,
              "version_minor": 0,
              "model_id": "f027ba15b08042f1932966b80d959f8c"
            }
          },
          "metadata": {}
        },
        {
          "output_type": "display_data",
          "data": {
            "text/plain": "FloatText(value=0.0, description='Offset 1')",
            "application/vnd.jupyter.widget-view+json": {
              "version_major": 2,
              "version_minor": 0,
              "model_id": "ac6512be43714a5b9a2fe1844641f796"
            }
          },
          "metadata": {}
        },
        {
          "output_type": "display_data",
          "data": {
            "text/plain": "FloatSlider(value=0.0, max=1.0)",
            "application/vnd.jupyter.widget-view+json": {
              "version_major": 2,
              "version_minor": 0,
              "model_id": "5ad136e5b8a249bc8296a5229089016d"
            }
          },
          "metadata": {}
        },
        {
          "output_type": "display_data",
          "data": {
            "text/plain": "IntText(value=0, description='Amplitude 2')",
            "application/vnd.jupyter.widget-view+json": {
              "version_major": 2,
              "version_minor": 0,
              "model_id": "1174ccf7da754a03ad0d25d22a97352f"
            }
          },
          "metadata": {}
        },
        {
          "output_type": "display_data",
          "data": {
            "text/plain": "IntSlider(value=1, max=5)",
            "application/vnd.jupyter.widget-view+json": {
              "version_major": 2,
              "version_minor": 0,
              "model_id": "253c52a3b31041d9a260b57920ba74ff"
            }
          },
          "metadata": {}
        },
        {
          "output_type": "display_data",
          "data": {
            "text/plain": "FloatText(value=0.0, description='Wavelength 2')",
            "application/vnd.jupyter.widget-view+json": {
              "version_major": 2,
              "version_minor": 0,
              "model_id": "ffca826112814587ac4b1e30c4a106b7"
            }
          },
          "metadata": {}
        },
        {
          "output_type": "display_data",
          "data": {
            "text/plain": "FloatLogSlider(value=1.0, max=2.0, min=-2.0)",
            "application/vnd.jupyter.widget-view+json": {
              "version_major": 2,
              "version_minor": 0,
              "model_id": "de8b7262c24044f8ad5b4cd2280f4dd2"
            }
          },
          "metadata": {}
        },
        {
          "output_type": "display_data",
          "data": {
            "text/plain": "FloatText(value=0.0, description='Offset 2')",
            "application/vnd.jupyter.widget-view+json": {
              "version_major": 2,
              "version_minor": 0,
              "model_id": "fb4b6d322ffd4bec97890d911bf2ce76"
            }
          },
          "metadata": {}
        },
        {
          "output_type": "display_data",
          "data": {
            "text/plain": "FloatSlider(value=0.2, max=1.0)",
            "application/vnd.jupyter.widget-view+json": {
              "version_major": 2,
              "version_minor": 0,
              "model_id": "1330b999eda149eeb8ccdd1a26c1e8ae"
            }
          },
          "metadata": {}
        },
        {
          "execution_count": 118,
          "output_type": "execute_result",
          "data": {
            "text/plain": "Output()",
            "application/vnd.jupyter.widget-view+json": {
              "version_major": 2,
              "version_minor": 0,
              "model_id": "d7d8369051514a218b753b8b075389f5"
            }
          },
          "metadata": {}
        }
      ],
      "execution_count": 118
    }
  ]
}
